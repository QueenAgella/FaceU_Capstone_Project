{
 "cells": [
  {
   "cell_type": "code",
   "execution_count": 1,
   "metadata": {},
   "outputs": [],
   "source": [
    "import os\n",
    "from PIL import Image\n",
    "import tensorflow as tf\n",
    "from tensorflow.keras import layers\n",
    "from tensorflow.keras.models import Sequential\n",
    "from tensorflow.keras.preprocessing.image import ImageDataGenerator\n",
    "from tensorflow.keras.layers import Dense, GlobalAveragePooling2D\n",
    "from tensorflow.keras.models import Model"
   ]
  },
  {
   "cell_type": "code",
   "execution_count": 2,
   "metadata": {},
   "outputs": [],
   "source": [
    "# Menentukan jalur direktori data pelatihan dan validasi\n",
    "dataset_dir = './NewDataset_AlreadySplit/'\n",
    "train_dir = './NewDataset_AlreadySplit/Train/'\n",
    "test_dir = './NewDataset_AlreadySplit/Test/'"
   ]
  },
  {
   "cell_type": "code",
   "execution_count": 3,
   "metadata": {},
   "outputs": [],
   "source": [
    "def find_largest_image_size_with_filename(folder_path):\n",
    "    max_width = 0\n",
    "    max_height = 0\n",
    "    largest_filename = \"\"\n",
    "\n",
    "    for filename in os.listdir(folder_path):\n",
    "        image_path = os.path.join(folder_path, filename)\n",
    "        image = Image.open(image_path)\n",
    "        width, height = image.size\n",
    "\n",
    "        if width > max_width:\n",
    "            max_width = width\n",
    "            largest_filename = filename\n",
    "        if height > max_height:\n",
    "            max_height = height\n",
    "            largest_filename = filename\n",
    "\n",
    "    return max_width, max_height, largest_filename"
   ]
  },
  {
   "cell_type": "code",
   "execution_count": 4,
   "metadata": {},
   "outputs": [
    {
     "name": "stdout",
     "output_type": "stream",
     "text": [
      "File dengan ukuran terbesar pada folder train:\n",
      "Nama File: 58.jpg\n",
      "Lebar: 4608\n",
      "Tinggi: 5184\n",
      "File dengan ukuran terbesar pada folder test:\n",
      "Nama File: 18.jpg\n",
      "Lebar: 4032\n",
      "Tinggi: 5184\n"
     ]
    }
   ],
   "source": [
    "train_path = os.path.join(dataset_dir, 'Train')\n",
    "test_path = os.path.join(dataset_dir, 'Test')\n",
    "\n",
    "train_max_width = 0\n",
    "train_max_height = 0\n",
    "train_largest_filename = \"\"\n",
    "test_max_width = 0\n",
    "test_max_height = 0\n",
    "test_largest_filename = \"\"\n",
    "\n",
    "for folder_name in os.listdir(train_path):\n",
    "    folder_path = os.path.join(train_path, folder_name)\n",
    "    max_width, max_height, largest_filename = find_largest_image_size_with_filename(folder_path)\n",
    "    if max_width > train_max_width:\n",
    "        train_max_width = max_width\n",
    "        train_largest_filename = largest_filename\n",
    "    if max_height > train_max_height:\n",
    "        train_max_height = max_height\n",
    "        train_largest_filename = largest_filename\n",
    "\n",
    "for folder_name in os.listdir(test_path):\n",
    "    folder_path = os.path.join(test_path, folder_name)\n",
    "    max_width, max_height, largest_filename = find_largest_image_size_with_filename(folder_path)\n",
    "    if max_width > test_max_width:\n",
    "        test_max_width = max_width\n",
    "        test_largest_filename = largest_filename\n",
    "    if max_height > test_max_height:\n",
    "        test_max_height = max_height\n",
    "        test_largest_filename = largest_filename\n",
    "\n",
    "print(\"File dengan ukuran terbesar pada folder train:\")\n",
    "print(\"Nama File:\", train_largest_filename)\n",
    "print(\"Lebar:\", train_max_width)\n",
    "print(\"Tinggi:\", train_max_height)\n",
    "\n",
    "print(\"File dengan ukuran terbesar pada folder test:\")\n",
    "print(\"Nama File:\", test_largest_filename)\n",
    "print(\"Lebar:\", test_max_width)\n",
    "print(\"Tinggi:\", test_max_height)"
   ]
  },
  {
   "cell_type": "code",
   "execution_count": 5,
   "metadata": {},
   "outputs": [],
   "source": [
    "# Menentukan dimensi citra input dan jumlah kelas\n",
    "image_height = 1000\n",
    "image_width = 1000\n",
    "num_classes = 4"
   ]
  },
  {
   "cell_type": "code",
   "execution_count": 6,
   "metadata": {},
   "outputs": [],
   "source": [
    "# Membangun model CNN\n",
    "model = Sequential()\n",
    "model.add(layers.Conv2D(32, (3, 3), activation='relu', input_shape=(image_height, image_width, 3)))\n",
    "model.add(layers.MaxPooling2D((2, 2)))\n",
    "model.add(layers.Conv2D(64, (3, 3), activation='relu'))\n",
    "model.add(layers.MaxPooling2D((2, 2)))\n",
    "model.add(layers.Conv2D(128, (3, 3), activation='relu'))\n",
    "model.add(layers.MaxPooling2D((2, 2)))\n",
    "model.add(layers.Flatten())\n",
    "model.add(layers.Dense(64, activation='relu'))\n",
    "model.add(layers.Dense(num_classes, activation='softmax'))"
   ]
  },
  {
   "cell_type": "code",
   "execution_count": 7,
   "metadata": {},
   "outputs": [],
   "source": [
    "# Compile model\n",
    "model.compile(optimizer='adam',\n",
    "              loss=tf.keras.losses.SparseCategoricalCrossentropy(from_logits=True),\n",
    "              metrics=['accuracy'])"
   ]
  },
  {
   "cell_type": "code",
   "execution_count": 8,
   "metadata": {},
   "outputs": [],
   "source": [
    "# Menggunakan ImageDataGenerator untuk memuat dan mempersiapkan data citra\n",
    "train_datagen = ImageDataGenerator(rescale=1./255,\n",
    "                                   rotation_range=20,\n",
    "                                   width_shift_range=0.2,\n",
    "                                   height_shift_range=0.2,\n",
    "                                   shear_range=0.2,\n",
    "                                   zoom_range=0.2,\n",
    "                                   horizontal_flip=True)\n",
    "\n",
    "test_datagen = ImageDataGenerator(rescale=1./255)"
   ]
  },
  {
   "cell_type": "code",
   "execution_count": 9,
   "metadata": {},
   "outputs": [],
   "source": [
    "# Menentukan batch size dan jumlah total sampel pada setiap dataset\n",
    "batch_size = 32\n",
    "total_train = len(train_dir)\n",
    "total_validation = len(test_dir)"
   ]
  },
  {
   "cell_type": "code",
   "execution_count": 11,
   "metadata": {},
   "outputs": [
    {
     "name": "stdout",
     "output_type": "stream",
     "text": [
      "Found 1351 images belonging to 4 classes.\n",
      "Found 340 images belonging to 4 classes.\n"
     ]
    }
   ],
   "source": [
    "# Menggunakan data generator untuk memuat dan mempersiapkan data citra\n",
    "train_generator = train_datagen.flow_from_directory(\n",
    "        train_dir,\n",
    "        target_size=(image_height, image_width),\n",
    "        batch_size=batch_size,\n",
    "        class_mode='sparse')\n",
    "\n",
    "validation_generator = test_datagen.flow_from_directory(\n",
    "        test_dir,\n",
    "        target_size=(image_height, image_width),\n",
    "        batch_size=batch_size,\n",
    "        class_mode='sparse')"
   ]
  },
  {
   "cell_type": "code",
   "execution_count": 12,
   "metadata": {},
   "outputs": [
    {
     "name": "stdout",
     "output_type": "stream",
     "text": [
      "Epoch 1/30\n"
     ]
    },
    {
     "name": "stderr",
     "output_type": "stream",
     "text": [
      "c:\\Users\\CATURWARGA COMPUTER\\AppData\\Local\\Programs\\Python\\Python39\\lib\\site-packages\\tensorflow\\python\\util\\dispatch.py:1082: UserWarning: \"`sparse_categorical_crossentropy` received `from_logits=True`, but the `output` argument was produced by a sigmoid or softmax activation and thus does not represent logits. Was this intended?\"\n",
      "  return dispatch_target(*args, **kwargs)\n"
     ]
    },
    {
     "name": "stdout",
     "output_type": "stream",
     "text": [
      "1/1 [==============================] - 230s 230s/step - loss: 1.3578 - accuracy: 0.5000\n",
      "Epoch 2/30\n",
      "1/1 [==============================] - 234s 234s/step - loss: 154.9071 - accuracy: 0.4062\n",
      "Epoch 3/30\n",
      "1/1 [==============================] - 235s 235s/step - loss: 133.1826 - accuracy: 0.2188\n",
      "Epoch 4/30\n",
      "1/1 [==============================] - 229s 229s/step - loss: 48.0988 - accuracy: 0.2188\n",
      "Epoch 5/30\n",
      "1/1 [==============================] - 186s 186s/step - loss: 13.3754 - accuracy: 0.2188\n",
      "Epoch 6/30\n",
      "1/1 [==============================] - 252s 252s/step - loss: 2.0018 - accuracy: 0.4688\n",
      "Epoch 7/30\n",
      "1/1 [==============================] - 266s 266s/step - loss: 1.6273 - accuracy: 0.5938\n",
      "Epoch 8/30\n",
      "1/1 [==============================] - 238s 238s/step - loss: 3.0575 - accuracy: 0.2188\n",
      "Epoch 9/30\n"
     ]
    }
   ],
   "source": [
    "# Melatih model menggunakan generator data\n",
    "history = model.fit(\n",
    "      train_generator,\n",
    "      steps_per_epoch=total_train // batch_size,\n",
    "      epochs=30,\n",
    "      validation_data=validation_generator,\n",
    "      validation_steps=total_validation // batch_size)"
   ]
  },
  {
   "cell_type": "code",
   "execution_count": 38,
   "metadata": {},
   "outputs": [
    {
     "name": "stdout",
     "output_type": "stream",
     "text": [
      "11/11 - 22s - loss: 1.3407 - accuracy: 0.3912 - 22s/epoch - 2s/step\n",
      "\n",
      "Test accuracy: 0.3911764621734619\n"
     ]
    }
   ],
   "source": [
    "# Evaluasi model   \n",
    "test_loss, test_acc = model.evaluate(validation_generator, verbose=2)\n",
    "print('\\nTest accuracy:', test_acc)"
   ]
  },
  {
   "cell_type": "code",
   "execution_count": 39,
   "metadata": {},
   "outputs": [],
   "source": [
    "import matplotlib.pyplot as plt"
   ]
  },
  {
   "cell_type": "code",
   "execution_count": 40,
   "metadata": {},
   "outputs": [
    {
     "ename": "KeyError",
     "evalue": "'val_accuracy'",
     "output_type": "error",
     "traceback": [
      "\u001b[1;31m---------------------------------------------------------------------------\u001b[0m",
      "\u001b[1;31mKeyError\u001b[0m                                  Traceback (most recent call last)",
      "\u001b[1;32mc:\\Users\\CATURWARGA COMPUTER\\Documents\\KULIAH\\MBKM\\MSIB\\Bangkit\\Capstone\\Code\\Model.ipynb Cell 15\u001b[0m in \u001b[0;36m<cell line: 2>\u001b[1;34m()\u001b[0m\n\u001b[0;32m      <a href='vscode-notebook-cell:/c%3A/Users/CATURWARGA%20COMPUTER/Documents/KULIAH/MBKM/MSIB/Bangkit/Capstone/Code/Model.ipynb#W2sZmlsZQ%3D%3D?line=0'>1</a>\u001b[0m plt\u001b[39m.\u001b[39mplot(history\u001b[39m.\u001b[39mhistory[\u001b[39m'\u001b[39m\u001b[39maccuracy\u001b[39m\u001b[39m'\u001b[39m])\n\u001b[1;32m----> <a href='vscode-notebook-cell:/c%3A/Users/CATURWARGA%20COMPUTER/Documents/KULIAH/MBKM/MSIB/Bangkit/Capstone/Code/Model.ipynb#W2sZmlsZQ%3D%3D?line=1'>2</a>\u001b[0m plt\u001b[39m.\u001b[39mplot(history\u001b[39m.\u001b[39;49mhistory[\u001b[39m'\u001b[39;49m\u001b[39mval_accuracy\u001b[39;49m\u001b[39m'\u001b[39;49m])\n\u001b[0;32m      <a href='vscode-notebook-cell:/c%3A/Users/CATURWARGA%20COMPUTER/Documents/KULIAH/MBKM/MSIB/Bangkit/Capstone/Code/Model.ipynb#W2sZmlsZQ%3D%3D?line=2'>3</a>\u001b[0m plt\u001b[39m.\u001b[39mtitle(\u001b[39m'\u001b[39m\u001b[39mModel Accuracy\u001b[39m\u001b[39m'\u001b[39m)\n\u001b[0;32m      <a href='vscode-notebook-cell:/c%3A/Users/CATURWARGA%20COMPUTER/Documents/KULIAH/MBKM/MSIB/Bangkit/Capstone/Code/Model.ipynb#W2sZmlsZQ%3D%3D?line=3'>4</a>\u001b[0m plt\u001b[39m.\u001b[39mxlabel(\u001b[39m'\u001b[39m\u001b[39mEpoch\u001b[39m\u001b[39m'\u001b[39m)\n",
      "\u001b[1;31mKeyError\u001b[0m: 'val_accuracy'"
     ]
    },
    {
     "data": {
      "image/png": "[encoded data removed]",
      "text/plain": [
       "<Figure size 432x288 with 1 Axes>"
      ]
     },
     "metadata": {
      "needs_background": "light"
     },
     "output_type": "display_data"
    }
   ],
   "source": [
    "plt.plot(history.history['accuracy'])\n",
    "plt.plot(history.history['val_accuracy'])\n",
    "plt.title('Model Accuracy')\n",
    "plt.xlabel('Epoch')\n",
    "plt.ylabel('Accuracy')\n",
    "plt.legend(['Train', 'Validation'], loc='upper left')\n",
    "plt.show()\n",
    "\n",
    "# Menampilkan grafik loss\n",
    "plt.plot(history.history['loss'])\n",
    "plt.plot(history.history['val_loss'])\n",
    "plt.title('Model Loss')\n",
    "plt.xlabel('Epoch')\n",
    "plt.ylabel('Loss')\n",
    "plt.legend(['Train', 'Validation'], loc='upper left')\n",
    "plt.show()"
   ]
  },
  {
   "cell_type": "code",
   "execution_count": null,
   "metadata": {},
   "outputs": [],
   "source": []
  }
 ],
 "metadata": {
  "kernelspec": {
   "display_name": "Python 3",
   "language": "python",
   "name": "python3"
  },
  "language_info": {
   "codemirror_mode": {
    "name": "ipython",
    "version": 3
   },
   "file_extension": ".py",
   "mimetype": "text/x-python",
   "name": "python",
   "nbconvert_exporter": "python",
   "pygments_lexer": "ipython3",
   "version": "3.9.10"
  },
  "orig_nbformat": 4
 },
 "nbformat": 4,
 "nbformat_minor": 2
}
